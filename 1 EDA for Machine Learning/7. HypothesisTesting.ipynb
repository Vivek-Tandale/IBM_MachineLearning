{
 "cells": [
  {
   "cell_type": "markdown",
   "id": "4ba620ab",
   "metadata": {},
   "source": [
    "# Hypothesis Testing\n",
    "\n",
    "- Know the difference between Null and Alternative Hypothesis\n",
    "- Try writing a set of Hypothesis"
   ]
  },
  {
   "cell_type": "code",
   "execution_count": 1,
   "id": "f732def6",
   "metadata": {},
   "outputs": [],
   "source": [
    "import numpy as np\n",
    "import matplotlib.pyplot as plt\n",
    "from scipy import stats\n",
    "\n",
    "import math"
   ]
  },
  {
   "cell_type": "markdown",
   "id": "b44ebce1",
   "metadata": {},
   "source": [
    "## Null Hypothesis\n",
    "\n",
    "I claim that I can predict coin flips, and you dont agree.\n",
    "How can we test this?\n",
    "\n",
    "We try fliping a coin 100 times and I preicted it correct 57 times.\n",
    "\n",
    "Now, was this coincidence or did predict it corrently 50% of times.\n",
    "\n",
    "<b>NULL HYPOTHESIS</b> : Coin is fair coin, and my ture prediction rate is 50%\n",
    "<br>\n",
    "<b>ALTERNATE HYPOTHESIS</b> : Coin is fair coin, and my ture prediction rate is greater than 50%"
   ]
  },
  {
   "cell_type": "markdown",
   "id": "ed600449",
   "metadata": {},
   "source": [
    "Test Statistic : Prediction for 100 coin flips\n",
    "\n",
    "If the NULL is correct, then the distribution is Binomial Distribution with n=100, p=0.5"
   ]
  },
  {
   "cell_type": "code",
   "execution_count": 2,
   "id": "e6ad08b6",
   "metadata": {},
   "outputs": [
    {
     "name": "stdout",
     "output_type": "stream",
     "text": [
      "9.7%\n"
     ]
    }
   ],
   "source": [
    "from scipy.stats import binom\n",
    "prob = 1 - binom.cdf(56, 100, 0.5)\n",
    "\n",
    "print(str(round(prob*100, 1))+\"%\")"
   ]
  },
  {
   "cell_type": "markdown",
   "id": "3fcb2e11",
   "metadata": {},
   "source": [
    "The probability of getting 57 or more correct is about 9.7%. This is more than 5%, so we can't reject the null and conclude that I (probably) don't have mystical powers.\n",
    "\n",
    "---\n",
    "\n",
    "Conversely, we can figure out what the 95% cutoff is beforehand.\n",
    "\n",
    "--- \n",
    "\n",
    "### Exercise\n",
    "\n",
    "Find the number of coin flips a person would need to guess correctly for us to believe they're clairvoyant.\n",
    "\n",
    "---\n"
   ]
  },
  {
   "cell_type": "code",
   "execution_count": 3,
   "id": "a9e46ce4",
   "metadata": {},
   "outputs": [
    {
     "name": "stdout",
     "output_type": "stream",
     "text": [
      "59.0\n"
     ]
    }
   ],
   "source": [
    "from scipy.stats import binom\n",
    "print(binom.ppf(0.95,100,0.5)+1)"
   ]
  },
  {
   "cell_type": "markdown",
   "id": "82a67d19",
   "metadata": {},
   "source": [
    "Which means, one should get 59 tosses or more to be considered clairvoyant. And we will say the person has predictive power with a confidence level of 95%.\n",
    "\n",
    "---\n"
   ]
  },
  {
   "cell_type": "code",
   "execution_count": null,
   "id": "ac834a19",
   "metadata": {},
   "outputs": [],
   "source": []
  }
 ],
 "metadata": {
  "kernelspec": {
   "display_name": "ml",
   "language": "python",
   "name": "python3"
  },
  "language_info": {
   "codemirror_mode": {
    "name": "ipython",
    "version": 3
   },
   "file_extension": ".py",
   "mimetype": "text/x-python",
   "name": "python",
   "nbconvert_exporter": "python",
   "pygments_lexer": "ipython3",
   "version": "3.13.2"
  }
 },
 "nbformat": 4,
 "nbformat_minor": 5
}
