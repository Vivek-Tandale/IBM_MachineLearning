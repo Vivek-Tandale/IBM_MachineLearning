{
 "cells": [
  {
   "cell_type": "markdown",
   "id": "4e0095d2",
   "metadata": {},
   "source": [
    "# Reading JSON and CSV"
   ]
  },
  {
   "cell_type": "code",
   "execution_count": 13,
   "id": "7a74b2dc",
   "metadata": {},
   "outputs": [],
   "source": [
    "import numpy as np\n",
    "import pandas as pd\n",
    "import matplotlib.pyplot as plt"
   ]
  },
  {
   "cell_type": "markdown",
   "id": "d26ac466",
   "metadata": {},
   "source": [
    "### Reading CSV using API\n",
    "Here the file is stores in cache and gets updated to the latest version everytime the API is called using 'kagglehub.download'"
   ]
  },
  {
   "cell_type": "code",
   "execution_count": 14,
   "id": "16e2f714",
   "metadata": {},
   "outputs": [
    {
     "name": "stdout",
     "output_type": "stream",
     "text": [
      "Warning: Looks like you're using an outdated `kagglehub` version, please consider updating (latest version: 0.3.12)\n",
      "Path to dataset files: /Users/vivektandale/.cache/kagglehub/datasets/arshid/iris-flower-dataset/versions/1\n"
     ]
    }
   ],
   "source": [
    "# import using API instead of using a locally used file\n",
    "import kagglehub\n",
    "\n",
    "# Download latest version\n",
    "path = kagglehub.dataset_download(\"arshid/iris-flower-dataset\")\n",
    "\n",
    "print(\"Path to dataset files:\", path)"
   ]
  },
  {
   "cell_type": "code",
   "execution_count": 15,
   "id": "3d3e081b",
   "metadata": {},
   "outputs": [],
   "source": [
    "df = pd.read_csv(path+'/IRIS.csv')"
   ]
  },
  {
   "cell_type": "markdown",
   "id": "e2e3de71",
   "metadata": {},
   "source": [
    "### Importing a JSON file via API"
   ]
  },
  {
   "cell_type": "code",
   "execution_count": 16,
   "id": "e86ed7e0",
   "metadata": {},
   "outputs": [
    {
     "name": "stdout",
     "output_type": "stream",
     "text": [
      "Warning: Looks like you're using an outdated `kagglehub` version, please consider updating (latest version: 0.3.12)\n",
      "Path to dataset files: /Users/vivektandale/.cache/kagglehub/datasets/rtatman/iris-dataset-json-version/versions/1\n"
     ]
    }
   ],
   "source": [
    "# Download latest version\n",
    "path2 = kagglehub.dataset_download(\"rtatman/iris-dataset-json-version\")\n",
    "\n",
    "print(\"Path to dataset files:\", path2)\n",
    "\n",
    "df2 = pd.read_json(path2+'/IRIS.json')"
   ]
  }
 ],
 "metadata": {
  "kernelspec": {
   "display_name": "ml",
   "language": "python",
   "name": "python3"
  },
  "language_info": {
   "codemirror_mode": {
    "name": "ipython",
    "version": 3
   },
   "file_extension": ".py",
   "mimetype": "text/x-python",
   "name": "python",
   "nbconvert_exporter": "python",
   "pygments_lexer": "ipython3",
   "version": "3.13.2"
  }
 },
 "nbformat": 4,
 "nbformat_minor": 5
}
