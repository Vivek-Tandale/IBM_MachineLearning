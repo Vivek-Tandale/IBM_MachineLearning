{
 "cells": [
  {
   "cell_type": "markdown",
   "id": "4e0095d2",
   "metadata": {},
   "source": [
    "# Reading JSON and CSV"
   ]
  },
  {
   "cell_type": "code",
   "execution_count": 13,
   "id": "7a74b2dc",
   "metadata": {},
   "outputs": [],
   "source": [
    "import numpy as np\n",
    "import pandas as pd\n",
    "import matplotlib.pyplot as plt"
   ]
  },
  {
   "cell_type": "markdown",
   "id": "d26ac466",
   "metadata": {},
   "source": [
    "### Reading CSV using API\n",
    "Here the file is stores in cache and gets updated to the latest version everytime the API is called using 'kagglehub.download'"
   ]
  },
  {
   "cell_type": "code",
   "execution_count": 14,
   "id": "16e2f714",
   "metadata": {},
   "outputs": [
    {
     "name": "stdout",
     "output_type": "stream",
     "text": [
      "Warning: Looks like you're using an outdated `kagglehub` version, please consider updating (latest version: 0.3.12)\n",
      "Path to dataset files: /Users/vivektandale/.cache/kagglehub/datasets/arshid/iris-flower-dataset/versions/1\n"
     ]
    }
   ],
   "source": [
    "# import using API instead of using a locally used file\n",
    "import kagglehub\n",
    "\n",
    "# Download latest version\n",
    "path = kagglehub.dataset_download(\"arshid/iris-flower-dataset\")\n",
    "\n",
    "print(\"Path to dataset files:\", path)"
   ]
  },
  {
   "cell_type": "code",
   "execution_count": 15,
   "id": "3d3e081b",
   "metadata": {},
   "outputs": [],
   "source": [
    "df = pd.read_csv(path+'/IRIS.csv')"
   ]
  },
  {
   "cell_type": "markdown",
   "id": "e2e3de71",
   "metadata": {},
   "source": [
    "### Importing a JSON file via API"
   ]
  },
  {
   "cell_type": "code",
   "execution_count": 16,
   "id": "e86ed7e0",
   "metadata": {},
   "outputs": [
    {
     "name": "stdout",
     "output_type": "stream",
     "text": [
      "Warning: Looks like you're using an outdated `kagglehub` version, please consider updating (latest version: 0.3.12)\n",
      "Path to dataset files: /Users/vivektandale/.cache/kagglehub/datasets/rtatman/iris-dataset-json-version/versions/1\n"
     ]
    }
   ],
   "source": [
    "# Download latest version\n",
    "path2 = kagglehub.dataset_download(\"rtatman/iris-dataset-json-version\")\n",
    "\n",
    "print(\"Path to dataset files:\", path2)\n",
    "\n",
    "df2 = pd.read_json(path2+'/IRIS.json')"
   ]
  },
  {
   "cell_type": "markdown",
   "id": "34b20fdc",
   "metadata": {},
   "source": [
    "### Reading Data from a SQL database using a connection"
   ]
  },
  {
   "cell_type": "code",
   "execution_count": 17,
   "id": "2003ac73",
   "metadata": {},
   "outputs": [],
   "source": [
    "import sqlite3 as sq3\n",
    "import pandas.io.sql as pds"
   ]
  },
  {
   "cell_type": "markdown",
   "id": "872e1680",
   "metadata": {},
   "source": [
    "This code downloads the data from server and saves it in a folder called 'data'"
   ]
  },
  {
   "cell_type": "code",
   "execution_count": 18,
   "id": "762c9cb7",
   "metadata": {},
   "outputs": [],
   "source": [
    "# !wget -P data https://cf-courses-data.s3.us.cloud-object-storage.appdomain.cloud/IBM-ML0232EN-SkillsNetwork/asset/classic_rock.db"
   ]
  },
  {
   "cell_type": "markdown",
   "id": "d6cc144c",
   "metadata": {},
   "source": [
    "'con' is a an object which has live connection with the database"
   ]
  },
  {
   "cell_type": "code",
   "execution_count": 19,
   "id": "370032a9",
   "metadata": {},
   "outputs": [],
   "source": [
    "path3 = 'data/classic_rock.db'\n",
    "con = sq3.Connection(path3)"
   ]
  },
  {
   "cell_type": "code",
   "execution_count": 20,
   "id": "3c3fd4eb",
   "metadata": {},
   "outputs": [
    {
     "data": {
      "text/plain": [
       "<sqlite3.Connection at 0x1277e87c0>"
      ]
     },
     "execution_count": 20,
     "metadata": {},
     "output_type": "execute_result"
    }
   ],
   "source": [
    "con"
   ]
  },
  {
   "cell_type": "code",
   "execution_count": 21,
   "id": "d3bf1510",
   "metadata": {},
   "outputs": [
    {
     "data": {
      "text/html": [
       "<div>\n",
       "<style scoped>\n",
       "    .dataframe tbody tr th:only-of-type {\n",
       "        vertical-align: middle;\n",
       "    }\n",
       "\n",
       "    .dataframe tbody tr th {\n",
       "        vertical-align: top;\n",
       "    }\n",
       "\n",
       "    .dataframe thead th {\n",
       "        text-align: right;\n",
       "    }\n",
       "</style>\n",
       "<table border=\"1\" class=\"dataframe\">\n",
       "  <thead>\n",
       "    <tr style=\"text-align: right;\">\n",
       "      <th></th>\n",
       "      <th>Song</th>\n",
       "      <th>Artist</th>\n",
       "      <th>Release_Year</th>\n",
       "      <th>PlayCount</th>\n",
       "    </tr>\n",
       "  </thead>\n",
       "  <tbody>\n",
       "    <tr>\n",
       "      <th>0</th>\n",
       "      <td>Caught Up in You</td>\n",
       "      <td>.38 Special</td>\n",
       "      <td>1982.0</td>\n",
       "      <td>82</td>\n",
       "    </tr>\n",
       "    <tr>\n",
       "      <th>1</th>\n",
       "      <td>Hold On Loosely</td>\n",
       "      <td>.38 Special</td>\n",
       "      <td>1981.0</td>\n",
       "      <td>85</td>\n",
       "    </tr>\n",
       "    <tr>\n",
       "      <th>2</th>\n",
       "      <td>Rockin' Into the Night</td>\n",
       "      <td>.38 Special</td>\n",
       "      <td>1980.0</td>\n",
       "      <td>18</td>\n",
       "    </tr>\n",
       "    <tr>\n",
       "      <th>3</th>\n",
       "      <td>Art For Arts Sake</td>\n",
       "      <td>10cc</td>\n",
       "      <td>1975.0</td>\n",
       "      <td>1</td>\n",
       "    </tr>\n",
       "    <tr>\n",
       "      <th>4</th>\n",
       "      <td>Kryptonite</td>\n",
       "      <td>3 Doors Down</td>\n",
       "      <td>2000.0</td>\n",
       "      <td>13</td>\n",
       "    </tr>\n",
       "  </tbody>\n",
       "</table>\n",
       "</div>"
      ],
      "text/plain": [
       "                     Song        Artist  Release_Year  PlayCount\n",
       "0        Caught Up in You   .38 Special        1982.0         82\n",
       "1         Hold On Loosely   .38 Special        1981.0         85\n",
       "2  Rockin' Into the Night   .38 Special        1980.0         18\n",
       "3       Art For Arts Sake          10cc        1975.0          1\n",
       "4              Kryptonite  3 Doors Down        2000.0         13"
      ]
     },
     "execution_count": 21,
     "metadata": {},
     "output_type": "execute_result"
    }
   ],
   "source": [
    "query = '''\n",
    "select * from rock_songs\n",
    "limit 10\n",
    "'''\n",
    "\n",
    "observations = pds.read_sql(query, con)\n",
    "observations.head()"
   ]
  },
  {
   "cell_type": "code",
   "execution_count": 22,
   "id": "38f301c4",
   "metadata": {},
   "outputs": [
    {
     "data": {
      "text/html": [
       "<div>\n",
       "<style scoped>\n",
       "    .dataframe tbody tr th:only-of-type {\n",
       "        vertical-align: middle;\n",
       "    }\n",
       "\n",
       "    .dataframe tbody tr th {\n",
       "        vertical-align: top;\n",
       "    }\n",
       "\n",
       "    .dataframe thead th {\n",
       "        text-align: right;\n",
       "    }\n",
       "</style>\n",
       "<table border=\"1\" class=\"dataframe\">\n",
       "  <thead>\n",
       "    <tr style=\"text-align: right;\">\n",
       "      <th></th>\n",
       "      <th>Artist</th>\n",
       "      <th>Release_Year</th>\n",
       "      <th>num_of_songs</th>\n",
       "      <th>avg_play_time</th>\n",
       "    </tr>\n",
       "  </thead>\n",
       "  <tbody>\n",
       "    <tr>\n",
       "      <th>0</th>\n",
       "      <td>The Beatles</td>\n",
       "      <td>1967.0</td>\n",
       "      <td>23</td>\n",
       "      <td>6.565217</td>\n",
       "    </tr>\n",
       "    <tr>\n",
       "      <th>1</th>\n",
       "      <td>Led Zeppelin</td>\n",
       "      <td>1969.0</td>\n",
       "      <td>18</td>\n",
       "      <td>21.000000</td>\n",
       "    </tr>\n",
       "    <tr>\n",
       "      <th>2</th>\n",
       "      <td>The Beatles</td>\n",
       "      <td>1965.0</td>\n",
       "      <td>15</td>\n",
       "      <td>3.800000</td>\n",
       "    </tr>\n",
       "    <tr>\n",
       "      <th>3</th>\n",
       "      <td>The Beatles</td>\n",
       "      <td>1968.0</td>\n",
       "      <td>13</td>\n",
       "      <td>13.000000</td>\n",
       "    </tr>\n",
       "    <tr>\n",
       "      <th>4</th>\n",
       "      <td>The Beatles</td>\n",
       "      <td>1969.0</td>\n",
       "      <td>13</td>\n",
       "      <td>15.000000</td>\n",
       "    </tr>\n",
       "    <tr>\n",
       "      <th>...</th>\n",
       "      <td>...</td>\n",
       "      <td>...</td>\n",
       "      <td>...</td>\n",
       "      <td>...</td>\n",
       "    </tr>\n",
       "    <tr>\n",
       "      <th>903</th>\n",
       "      <td>Yes</td>\n",
       "      <td>1972.0</td>\n",
       "      <td>1</td>\n",
       "      <td>35.000000</td>\n",
       "    </tr>\n",
       "    <tr>\n",
       "      <th>904</th>\n",
       "      <td>ZZ Top</td>\n",
       "      <td>1976.0</td>\n",
       "      <td>1</td>\n",
       "      <td>1.000000</td>\n",
       "    </tr>\n",
       "    <tr>\n",
       "      <th>905</th>\n",
       "      <td>ZZ Top</td>\n",
       "      <td>1980.0</td>\n",
       "      <td>1</td>\n",
       "      <td>34.000000</td>\n",
       "    </tr>\n",
       "    <tr>\n",
       "      <th>906</th>\n",
       "      <td>Zombies</td>\n",
       "      <td>1968.0</td>\n",
       "      <td>1</td>\n",
       "      <td>14.000000</td>\n",
       "    </tr>\n",
       "    <tr>\n",
       "      <th>907</th>\n",
       "      <td>a-ha</td>\n",
       "      <td>1985.0</td>\n",
       "      <td>1</td>\n",
       "      <td>1.000000</td>\n",
       "    </tr>\n",
       "  </tbody>\n",
       "</table>\n",
       "<p>908 rows × 4 columns</p>\n",
       "</div>"
      ],
      "text/plain": [
       "           Artist  Release_Year  num_of_songs  avg_play_time\n",
       "0     The Beatles        1967.0            23       6.565217\n",
       "1    Led Zeppelin        1969.0            18      21.000000\n",
       "2     The Beatles        1965.0            15       3.800000\n",
       "3     The Beatles        1968.0            13      13.000000\n",
       "4     The Beatles        1969.0            13      15.000000\n",
       "..            ...           ...           ...            ...\n",
       "903           Yes        1972.0             1      35.000000\n",
       "904        ZZ Top        1976.0             1       1.000000\n",
       "905        ZZ Top        1980.0             1      34.000000\n",
       "906       Zombies        1968.0             1      14.000000\n",
       "907          a-ha        1985.0             1       1.000000\n",
       "\n",
       "[908 rows x 4 columns]"
      ]
     },
     "execution_count": 22,
     "metadata": {},
     "output_type": "execute_result"
    }
   ],
   "source": [
    "query = '''\n",
    "select artist, release_year, count(*) as num_of_songs, avg(playcount) as avg_play_time\n",
    "from rock_songs\n",
    "group by artist, release_year\n",
    "order by num_of_songs desc\n",
    "'''\n",
    "\n",
    "observations = pds.read_sql(query, con)\n",
    "observations"
   ]
  },
  {
   "cell_type": "code",
   "execution_count": 23,
   "id": "40a81c42",
   "metadata": {},
   "outputs": [
    {
     "name": "stdout",
     "output_type": "stream",
     "text": [
      "Observations index: 0\n"
     ]
    },
    {
     "data": {
      "text/html": [
       "<div>\n",
       "<style scoped>\n",
       "    .dataframe tbody tr th:only-of-type {\n",
       "        vertical-align: middle;\n",
       "    }\n",
       "\n",
       "    .dataframe tbody tr th {\n",
       "        vertical-align: top;\n",
       "    }\n",
       "\n",
       "    .dataframe thead th {\n",
       "        text-align: right;\n",
       "    }\n",
       "</style>\n",
       "<table border=\"1\" class=\"dataframe\">\n",
       "  <thead>\n",
       "    <tr style=\"text-align: right;\">\n",
       "      <th></th>\n",
       "      <th>Artist</th>\n",
       "      <th>Release_Year</th>\n",
       "      <th>num_of_songs</th>\n",
       "      <th>avg_play_time</th>\n",
       "    </tr>\n",
       "  </thead>\n",
       "  <tbody>\n",
       "    <tr>\n",
       "      <th>0</th>\n",
       "      <td>The Beatles</td>\n",
       "      <td>1970-01-01 00:32:47</td>\n",
       "      <td>23</td>\n",
       "      <td>6.565217</td>\n",
       "    </tr>\n",
       "    <tr>\n",
       "      <th>1</th>\n",
       "      <td>Led Zeppelin</td>\n",
       "      <td>1970-01-01 00:32:49</td>\n",
       "      <td>18</td>\n",
       "      <td>21.000000</td>\n",
       "    </tr>\n",
       "    <tr>\n",
       "      <th>2</th>\n",
       "      <td>The Beatles</td>\n",
       "      <td>1970-01-01 00:32:45</td>\n",
       "      <td>15</td>\n",
       "      <td>3.800000</td>\n",
       "    </tr>\n",
       "    <tr>\n",
       "      <th>3</th>\n",
       "      <td>The Beatles</td>\n",
       "      <td>1970-01-01 00:32:48</td>\n",
       "      <td>13</td>\n",
       "      <td>13.000000</td>\n",
       "    </tr>\n",
       "    <tr>\n",
       "      <th>4</th>\n",
       "      <td>The Beatles</td>\n",
       "      <td>1970-01-01 00:32:49</td>\n",
       "      <td>13</td>\n",
       "      <td>15.000000</td>\n",
       "    </tr>\n",
       "  </tbody>\n",
       "</table>\n",
       "</div>"
      ],
      "text/plain": [
       "         Artist        Release_Year  num_of_songs  avg_play_time\n",
       "0   The Beatles 1970-01-01 00:32:47            23       6.565217\n",
       "1  Led Zeppelin 1970-01-01 00:32:49            18      21.000000\n",
       "2   The Beatles 1970-01-01 00:32:45            15       3.800000\n",
       "3   The Beatles 1970-01-01 00:32:48            13      13.000000\n",
       "4   The Beatles 1970-01-01 00:32:49            13      15.000000"
      ]
     },
     "metadata": {},
     "output_type": "display_data"
    },
    {
     "name": "stdout",
     "output_type": "stream",
     "text": [
      "Observations index: 1\n"
     ]
    },
    {
     "data": {
      "text/html": [
       "<div>\n",
       "<style scoped>\n",
       "    .dataframe tbody tr th:only-of-type {\n",
       "        vertical-align: middle;\n",
       "    }\n",
       "\n",
       "    .dataframe tbody tr th {\n",
       "        vertical-align: top;\n",
       "    }\n",
       "\n",
       "    .dataframe thead th {\n",
       "        text-align: right;\n",
       "    }\n",
       "</style>\n",
       "<table border=\"1\" class=\"dataframe\">\n",
       "  <thead>\n",
       "    <tr style=\"text-align: right;\">\n",
       "      <th></th>\n",
       "      <th>Artist</th>\n",
       "      <th>Release_Year</th>\n",
       "      <th>num_of_songs</th>\n",
       "      <th>avg_play_time</th>\n",
       "    </tr>\n",
       "  </thead>\n",
       "  <tbody>\n",
       "    <tr>\n",
       "      <th>0</th>\n",
       "      <td>Led Zeppelin</td>\n",
       "      <td>1970-01-01 00:32:50</td>\n",
       "      <td>12</td>\n",
       "      <td>13.166667</td>\n",
       "    </tr>\n",
       "    <tr>\n",
       "      <th>1</th>\n",
       "      <td>Led Zeppelin</td>\n",
       "      <td>1970-01-01 00:32:55</td>\n",
       "      <td>12</td>\n",
       "      <td>14.166667</td>\n",
       "    </tr>\n",
       "    <tr>\n",
       "      <th>2</th>\n",
       "      <td>Pink Floyd</td>\n",
       "      <td>1970-01-01 00:32:59</td>\n",
       "      <td>11</td>\n",
       "      <td>41.454545</td>\n",
       "    </tr>\n",
       "    <tr>\n",
       "      <th>3</th>\n",
       "      <td>Pink Floyd</td>\n",
       "      <td>1970-01-01 00:32:53</td>\n",
       "      <td>10</td>\n",
       "      <td>29.100000</td>\n",
       "    </tr>\n",
       "    <tr>\n",
       "      <th>4</th>\n",
       "      <td>The Doors</td>\n",
       "      <td>1970-01-01 00:32:47</td>\n",
       "      <td>10</td>\n",
       "      <td>28.900000</td>\n",
       "    </tr>\n",
       "  </tbody>\n",
       "</table>\n",
       "</div>"
      ],
      "text/plain": [
       "         Artist        Release_Year  num_of_songs  avg_play_time\n",
       "0  Led Zeppelin 1970-01-01 00:32:50            12      13.166667\n",
       "1  Led Zeppelin 1970-01-01 00:32:55            12      14.166667\n",
       "2    Pink Floyd 1970-01-01 00:32:59            11      41.454545\n",
       "3    Pink Floyd 1970-01-01 00:32:53            10      29.100000\n",
       "4     The Doors 1970-01-01 00:32:47            10      28.900000"
      ]
     },
     "metadata": {},
     "output_type": "display_data"
    },
    {
     "name": "stdout",
     "output_type": "stream",
     "text": [
      "Observations index: 2\n"
     ]
    },
    {
     "data": {
      "text/html": [
       "<div>\n",
       "<style scoped>\n",
       "    .dataframe tbody tr th:only-of-type {\n",
       "        vertical-align: middle;\n",
       "    }\n",
       "\n",
       "    .dataframe tbody tr th {\n",
       "        vertical-align: top;\n",
       "    }\n",
       "\n",
       "    .dataframe thead th {\n",
       "        text-align: right;\n",
       "    }\n",
       "</style>\n",
       "<table border=\"1\" class=\"dataframe\">\n",
       "  <thead>\n",
       "    <tr style=\"text-align: right;\">\n",
       "      <th></th>\n",
       "      <th>Artist</th>\n",
       "      <th>Release_Year</th>\n",
       "      <th>num_of_songs</th>\n",
       "      <th>avg_play_time</th>\n",
       "    </tr>\n",
       "  </thead>\n",
       "  <tbody>\n",
       "    <tr>\n",
       "      <th>0</th>\n",
       "      <td>Fleetwood Mac</td>\n",
       "      <td>1970-01-01 00:32:57</td>\n",
       "      <td>9</td>\n",
       "      <td>35.666667</td>\n",
       "    </tr>\n",
       "    <tr>\n",
       "      <th>1</th>\n",
       "      <td>Jimi Hendrix</td>\n",
       "      <td>1970-01-01 00:32:47</td>\n",
       "      <td>9</td>\n",
       "      <td>24.888889</td>\n",
       "    </tr>\n",
       "    <tr>\n",
       "      <th>2</th>\n",
       "      <td>The Beatles</td>\n",
       "      <td>1970-01-01 00:32:43</td>\n",
       "      <td>9</td>\n",
       "      <td>2.444444</td>\n",
       "    </tr>\n",
       "    <tr>\n",
       "      <th>3</th>\n",
       "      <td>The Beatles</td>\n",
       "      <td>1970-01-01 00:32:44</td>\n",
       "      <td>9</td>\n",
       "      <td>3.111111</td>\n",
       "    </tr>\n",
       "    <tr>\n",
       "      <th>4</th>\n",
       "      <td>Elton John</td>\n",
       "      <td>1970-01-01 00:32:53</td>\n",
       "      <td>8</td>\n",
       "      <td>18.500000</td>\n",
       "    </tr>\n",
       "  </tbody>\n",
       "</table>\n",
       "</div>"
      ],
      "text/plain": [
       "          Artist        Release_Year  num_of_songs  avg_play_time\n",
       "0  Fleetwood Mac 1970-01-01 00:32:57             9      35.666667\n",
       "1   Jimi Hendrix 1970-01-01 00:32:47             9      24.888889\n",
       "2    The Beatles 1970-01-01 00:32:43             9       2.444444\n",
       "3    The Beatles 1970-01-01 00:32:44             9       3.111111\n",
       "4     Elton John 1970-01-01 00:32:53             8      18.500000"
      ]
     },
     "metadata": {},
     "output_type": "display_data"
    },
    {
     "name": "stdout",
     "output_type": "stream",
     "text": [
      "Observations index: 3\n"
     ]
    },
    {
     "data": {
      "text/html": [
       "<div>\n",
       "<style scoped>\n",
       "    .dataframe tbody tr th:only-of-type {\n",
       "        vertical-align: middle;\n",
       "    }\n",
       "\n",
       "    .dataframe tbody tr th {\n",
       "        vertical-align: top;\n",
       "    }\n",
       "\n",
       "    .dataframe thead th {\n",
       "        text-align: right;\n",
       "    }\n",
       "</style>\n",
       "<table border=\"1\" class=\"dataframe\">\n",
       "  <thead>\n",
       "    <tr style=\"text-align: right;\">\n",
       "      <th></th>\n",
       "      <th>Artist</th>\n",
       "      <th>Release_Year</th>\n",
       "      <th>num_of_songs</th>\n",
       "      <th>avg_play_time</th>\n",
       "    </tr>\n",
       "  </thead>\n",
       "  <tbody>\n",
       "    <tr>\n",
       "      <th>0</th>\n",
       "      <td>Led Zeppelin</td>\n",
       "      <td>1970-01-01 00:32:51</td>\n",
       "      <td>8</td>\n",
       "      <td>47.750000</td>\n",
       "    </tr>\n",
       "    <tr>\n",
       "      <th>1</th>\n",
       "      <td>Led Zeppelin</td>\n",
       "      <td>1970-01-01 00:32:53</td>\n",
       "      <td>8</td>\n",
       "      <td>34.125000</td>\n",
       "    </tr>\n",
       "    <tr>\n",
       "      <th>2</th>\n",
       "      <td>Boston</td>\n",
       "      <td>1970-01-01 00:32:56</td>\n",
       "      <td>7</td>\n",
       "      <td>69.285714</td>\n",
       "    </tr>\n",
       "    <tr>\n",
       "      <th>3</th>\n",
       "      <td>Rolling Stones</td>\n",
       "      <td>1970-01-01 00:32:49</td>\n",
       "      <td>7</td>\n",
       "      <td>36.142857</td>\n",
       "    </tr>\n",
       "    <tr>\n",
       "      <th>4</th>\n",
       "      <td>Van Halen</td>\n",
       "      <td>1970-01-01 00:32:58</td>\n",
       "      <td>7</td>\n",
       "      <td>51.142857</td>\n",
       "    </tr>\n",
       "  </tbody>\n",
       "</table>\n",
       "</div>"
      ],
      "text/plain": [
       "           Artist        Release_Year  num_of_songs  avg_play_time\n",
       "0    Led Zeppelin 1970-01-01 00:32:51             8      47.750000\n",
       "1    Led Zeppelin 1970-01-01 00:32:53             8      34.125000\n",
       "2          Boston 1970-01-01 00:32:56             7      69.285714\n",
       "3  Rolling Stones 1970-01-01 00:32:49             7      36.142857\n",
       "4       Van Halen 1970-01-01 00:32:58             7      51.142857"
      ]
     },
     "metadata": {},
     "output_type": "display_data"
    },
    {
     "name": "stdout",
     "output_type": "stream",
     "text": [
      "Observations index: 4\n"
     ]
    },
    {
     "data": {
      "text/html": [
       "<div>\n",
       "<style scoped>\n",
       "    .dataframe tbody tr th:only-of-type {\n",
       "        vertical-align: middle;\n",
       "    }\n",
       "\n",
       "    .dataframe tbody tr th {\n",
       "        vertical-align: top;\n",
       "    }\n",
       "\n",
       "    .dataframe thead th {\n",
       "        text-align: right;\n",
       "    }\n",
       "</style>\n",
       "<table border=\"1\" class=\"dataframe\">\n",
       "  <thead>\n",
       "    <tr style=\"text-align: right;\">\n",
       "      <th></th>\n",
       "      <th>Artist</th>\n",
       "      <th>Release_Year</th>\n",
       "      <th>num_of_songs</th>\n",
       "      <th>avg_play_time</th>\n",
       "    </tr>\n",
       "  </thead>\n",
       "  <tbody>\n",
       "    <tr>\n",
       "      <th>0</th>\n",
       "      <td>Bruce Springsteen</td>\n",
       "      <td>1970-01-01 00:32:55</td>\n",
       "      <td>6</td>\n",
       "      <td>7.666667</td>\n",
       "    </tr>\n",
       "    <tr>\n",
       "      <th>1</th>\n",
       "      <td>Bruce Springsteen</td>\n",
       "      <td>1970-01-01 00:33:04</td>\n",
       "      <td>6</td>\n",
       "      <td>11.500000</td>\n",
       "    </tr>\n",
       "    <tr>\n",
       "      <th>2</th>\n",
       "      <td>Creedence Clearwater Revival</td>\n",
       "      <td>1970-01-01 00:32:49</td>\n",
       "      <td>6</td>\n",
       "      <td>23.833333</td>\n",
       "    </tr>\n",
       "    <tr>\n",
       "      <th>3</th>\n",
       "      <td>Creedence Clearwater Revival</td>\n",
       "      <td>1970-01-01 00:32:50</td>\n",
       "      <td>6</td>\n",
       "      <td>18.833333</td>\n",
       "    </tr>\n",
       "    <tr>\n",
       "      <th>4</th>\n",
       "      <td>Def Leppard</td>\n",
       "      <td>1970-01-01 00:33:07</td>\n",
       "      <td>6</td>\n",
       "      <td>32.000000</td>\n",
       "    </tr>\n",
       "  </tbody>\n",
       "</table>\n",
       "</div>"
      ],
      "text/plain": [
       "                         Artist        Release_Year  num_of_songs  \\\n",
       "0             Bruce Springsteen 1970-01-01 00:32:55             6   \n",
       "1             Bruce Springsteen 1970-01-01 00:33:04             6   \n",
       "2  Creedence Clearwater Revival 1970-01-01 00:32:49             6   \n",
       "3  Creedence Clearwater Revival 1970-01-01 00:32:50             6   \n",
       "4                   Def Leppard 1970-01-01 00:33:07             6   \n",
       "\n",
       "   avg_play_time  \n",
       "0       7.666667  \n",
       "1      11.500000  \n",
       "2      23.833333  \n",
       "3      18.833333  \n",
       "4      32.000000  "
      ]
     },
     "metadata": {},
     "output_type": "display_data"
    }
   ],
   "source": [
    "observations_generator = pds.read_sql(query,\n",
    "                            con,\n",
    "                            coerce_float=True, # Doesn't efefct this dataset, because floats were correctly parsed\n",
    "                            parse_dates=['Release_Year'], # Parse `Release_Year` as a date\n",
    "                            chunksize=5 # Allows for streaming results as a series of shorter tables\n",
    "                           )\n",
    "\n",
    "for index, observations in enumerate(observations_generator):\n",
    "    if index < 5:\n",
    "        print(f'Observations index: {index}'.format(index))\n",
    "        display(observations)"
   ]
  },
  {
   "cell_type": "code",
   "execution_count": null,
   "id": "127320b4",
   "metadata": {},
   "outputs": [],
   "source": []
  }
 ],
 "metadata": {
  "kernelspec": {
   "display_name": "ml",
   "language": "python",
   "name": "python3"
  },
  "language_info": {
   "codemirror_mode": {
    "name": "ipython",
    "version": 3
   },
   "file_extension": ".py",
   "mimetype": "text/x-python",
   "name": "python",
   "nbconvert_exporter": "python",
   "pygments_lexer": "ipython3",
   "version": "3.13.2"
  }
 },
 "nbformat": 4,
 "nbformat_minor": 5
}
