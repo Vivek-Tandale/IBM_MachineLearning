{
 "cells": [
  {
   "cell_type": "markdown",
   "id": "4ba620ab",
   "metadata": {},
   "source": [
    "# Hypothesis Testing\n",
    "\n",
    "- Know the difference between Null and Alternative Hypothesis\n",
    "- Try writing a set of Hypothesis"
   ]
  },
  {
   "cell_type": "code",
   "execution_count": 1,
   "id": "f732def6",
   "metadata": {},
   "outputs": [],
   "source": [
    "import numpy as np\n",
    "import matplotlib.pyplot as plt\n",
    "from scipy import stats\n",
    "\n",
    "import math"
   ]
  },
  {
   "cell_type": "markdown",
   "id": "b44ebce1",
   "metadata": {},
   "source": [
    "## Null Hypothesis\n",
    "\n",
    "I claim that I can predict coin flips, and you dont agree.\n",
    "How can we test this?\n",
    "\n",
    "We try fliping a coin 100 times and I preicted it correct 57 times.\n",
    "\n",
    "Now, was this coincidence or did predict it corrently 50% of times.\n",
    "\n",
    "<b>NULL HYPOTHESIS</b> : Coin is fair coin, and my ture prediction rate is 50%\n",
    "<br>\n",
    "<b>ALTERNATE HYPOTHESIS</b> : Coin is fair coin, and my ture prediction rate is greater than 50%"
   ]
  },
  {
   "cell_type": "markdown",
   "id": "ed600449",
   "metadata": {},
   "source": [
    "Test Statistic : Prediction for 100 coin flips"
   ]
  },
  {
   "cell_type": "markdown",
   "id": "e6ad08b6",
   "metadata": {},
   "source": []
  }
 ],
 "metadata": {
  "kernelspec": {
   "display_name": "ml",
   "language": "python",
   "name": "python3"
  },
  "language_info": {
   "codemirror_mode": {
    "name": "ipython",
    "version": 3
   },
   "file_extension": ".py",
   "mimetype": "text/x-python",
   "name": "python",
   "nbconvert_exporter": "python",
   "pygments_lexer": "ipython3",
   "version": "3.13.2"
  }
 },
 "nbformat": 4,
 "nbformat_minor": 5
}
