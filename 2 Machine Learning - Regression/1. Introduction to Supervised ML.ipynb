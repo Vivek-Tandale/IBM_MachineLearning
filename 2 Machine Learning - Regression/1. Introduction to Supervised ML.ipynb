{
 "cells": [
  {
   "cell_type": "markdown",
   "id": "b4b75c8a",
   "metadata": {},
   "source": [
    "# Introduction to Machine Learning\n",
    "\n",
    "## Supervised Machine Learning\n",
    "\n",
    "There are 2 main models for approcating this -\n",
    "- Regression\n",
    "- Classification"
   ]
  },
  {
   "cell_type": "markdown",
   "id": "2ab0ea89",
   "metadata": {},
   "source": [
    "## Linear Regression Example"
   ]
  },
  {
   "cell_type": "code",
   "execution_count": 1,
   "id": "6321661c",
   "metadata": {},
   "outputs": [],
   "source": [
    "import numpy as np\n",
    "import pandas as pd\n",
    "import matplotlib.pyplot as plt"
   ]
  },
  {
   "cell_type": "code",
   "execution_count": 2,
   "id": "ea14bbe8",
   "metadata": {},
   "outputs": [],
   "source": [
    "# these are some functions which help in plotting\n",
    "np.random.seed(72018)\n",
    "\n",
    "\n",
    "def to_2d(array):\n",
    "    return array.reshape(array.shape[0], -1)\n",
    "    \n",
    "def plot_exponential_data():\n",
    "    data = np.exp(np.random.normal(size=1000))\n",
    "    plt.hist(data)\n",
    "    plt.show()\n",
    "    return data\n",
    "    \n",
    "def plot_square_normal_data():\n",
    "    data = np.square(np.random.normal(loc=5, size=1000))\n",
    "    plt.hist(data)\n",
    "    plt.show()\n",
    "    return data"
   ]
  },
  {
   "cell_type": "code",
   "execution_count": 3,
   "id": "0061e58d",
   "metadata": {},
   "outputs": [
    {
     "name": "stdout",
     "output_type": "stream",
     "text": [
      "--2025-07-31 22:39:47--  https://cf-courses-data.s3.us.cloud-object-storage.appdomain.cloud/IBM-ML240EN-SkillsNetwork/labs/data/boston_housing_clean.pickle\n",
      "Resolving cf-courses-data.s3.us.cloud-object-storage.appdomain.cloud (cf-courses-data.s3.us.cloud-object-storage.appdomain.cloud)... 169.45.118.108\n",
      "Connecting to cf-courses-data.s3.us.cloud-object-storage.appdomain.cloud (cf-courses-data.s3.us.cloud-object-storage.appdomain.cloud)|169.45.118.108|:443... connected.\n",
      "HTTP request sent, awaiting response... 200 OK\n",
      "Length: 60056 (59K) [binary/octet-stream]\n",
      "Saving to: ‘boston_housing_clean.pickle’\n",
      "\n",
      "boston_housing_clea 100%[===================>]  58.65K   174KB/s    in 0.3s    \n",
      "\n",
      "2025-07-31 22:39:49 (174 KB/s) - ‘boston_housing_clean.pickle’ saved [60056/60056]\n",
      "\n"
     ]
    }
   ],
   "source": [
    "!wget \"https://cf-courses-data.s3.us.cloud-object-storage.appdomain.cloud/IBM-ML240EN-SkillsNetwork/labs/data/boston_housing_clean.pickle\""
   ]
  },
  {
   "cell_type": "code",
   "execution_count": 4,
   "id": "fd934c59",
   "metadata": {},
   "outputs": [],
   "source": [
    "with open('boston_housing_clean.pickle', 'rb') as to_read:\n",
    "    boston = pd.read_pickle(to_read)\n",
    "boston_data = boston['dataframe']\n",
    "boston_description = boston['description']"
   ]
  },
  {
   "cell_type": "code",
   "execution_count": 5,
   "id": "67218d74",
   "metadata": {},
   "outputs": [
    {
     "data": {
      "text/html": [
       "<div>\n",
       "<style scoped>\n",
       "    .dataframe tbody tr th:only-of-type {\n",
       "        vertical-align: middle;\n",
       "    }\n",
       "\n",
       "    .dataframe tbody tr th {\n",
       "        vertical-align: top;\n",
       "    }\n",
       "\n",
       "    .dataframe thead th {\n",
       "        text-align: right;\n",
       "    }\n",
       "</style>\n",
       "<table border=\"1\" class=\"dataframe\">\n",
       "  <thead>\n",
       "    <tr style=\"text-align: right;\">\n",
       "      <th></th>\n",
       "      <th>CRIM</th>\n",
       "      <th>ZN</th>\n",
       "      <th>INDUS</th>\n",
       "      <th>CHAS</th>\n",
       "      <th>NOX</th>\n",
       "      <th>RM</th>\n",
       "      <th>AGE</th>\n",
       "      <th>DIS</th>\n",
       "      <th>RAD</th>\n",
       "      <th>TAX</th>\n",
       "      <th>PTRATIO</th>\n",
       "      <th>B</th>\n",
       "      <th>LSTAT</th>\n",
       "      <th>MEDV</th>\n",
       "    </tr>\n",
       "  </thead>\n",
       "  <tbody>\n",
       "    <tr>\n",
       "      <th>0</th>\n",
       "      <td>0.00632</td>\n",
       "      <td>18.0</td>\n",
       "      <td>2.31</td>\n",
       "      <td>0.0</td>\n",
       "      <td>0.538</td>\n",
       "      <td>6.575</td>\n",
       "      <td>65.2</td>\n",
       "      <td>4.0900</td>\n",
       "      <td>1.0</td>\n",
       "      <td>296.0</td>\n",
       "      <td>15.3</td>\n",
       "      <td>396.90</td>\n",
       "      <td>4.98</td>\n",
       "      <td>24.0</td>\n",
       "    </tr>\n",
       "    <tr>\n",
       "      <th>1</th>\n",
       "      <td>0.02731</td>\n",
       "      <td>0.0</td>\n",
       "      <td>7.07</td>\n",
       "      <td>0.0</td>\n",
       "      <td>0.469</td>\n",
       "      <td>6.421</td>\n",
       "      <td>78.9</td>\n",
       "      <td>4.9671</td>\n",
       "      <td>2.0</td>\n",
       "      <td>242.0</td>\n",
       "      <td>17.8</td>\n",
       "      <td>396.90</td>\n",
       "      <td>9.14</td>\n",
       "      <td>21.6</td>\n",
       "    </tr>\n",
       "    <tr>\n",
       "      <th>2</th>\n",
       "      <td>0.02729</td>\n",
       "      <td>0.0</td>\n",
       "      <td>7.07</td>\n",
       "      <td>0.0</td>\n",
       "      <td>0.469</td>\n",
       "      <td>7.185</td>\n",
       "      <td>61.1</td>\n",
       "      <td>4.9671</td>\n",
       "      <td>2.0</td>\n",
       "      <td>242.0</td>\n",
       "      <td>17.8</td>\n",
       "      <td>392.83</td>\n",
       "      <td>4.03</td>\n",
       "      <td>34.7</td>\n",
       "    </tr>\n",
       "    <tr>\n",
       "      <th>3</th>\n",
       "      <td>0.03237</td>\n",
       "      <td>0.0</td>\n",
       "      <td>2.18</td>\n",
       "      <td>0.0</td>\n",
       "      <td>0.458</td>\n",
       "      <td>6.998</td>\n",
       "      <td>45.8</td>\n",
       "      <td>6.0622</td>\n",
       "      <td>3.0</td>\n",
       "      <td>222.0</td>\n",
       "      <td>18.7</td>\n",
       "      <td>394.63</td>\n",
       "      <td>2.94</td>\n",
       "      <td>33.4</td>\n",
       "    </tr>\n",
       "    <tr>\n",
       "      <th>4</th>\n",
       "      <td>0.06905</td>\n",
       "      <td>0.0</td>\n",
       "      <td>2.18</td>\n",
       "      <td>0.0</td>\n",
       "      <td>0.458</td>\n",
       "      <td>7.147</td>\n",
       "      <td>54.2</td>\n",
       "      <td>6.0622</td>\n",
       "      <td>3.0</td>\n",
       "      <td>222.0</td>\n",
       "      <td>18.7</td>\n",
       "      <td>396.90</td>\n",
       "      <td>5.33</td>\n",
       "      <td>36.2</td>\n",
       "    </tr>\n",
       "    <tr>\n",
       "      <th>5</th>\n",
       "      <td>0.02985</td>\n",
       "      <td>0.0</td>\n",
       "      <td>2.18</td>\n",
       "      <td>0.0</td>\n",
       "      <td>0.458</td>\n",
       "      <td>6.430</td>\n",
       "      <td>58.7</td>\n",
       "      <td>6.0622</td>\n",
       "      <td>3.0</td>\n",
       "      <td>222.0</td>\n",
       "      <td>18.7</td>\n",
       "      <td>394.12</td>\n",
       "      <td>5.21</td>\n",
       "      <td>28.7</td>\n",
       "    </tr>\n",
       "    <tr>\n",
       "      <th>6</th>\n",
       "      <td>0.08829</td>\n",
       "      <td>12.5</td>\n",
       "      <td>7.87</td>\n",
       "      <td>0.0</td>\n",
       "      <td>0.524</td>\n",
       "      <td>6.012</td>\n",
       "      <td>66.6</td>\n",
       "      <td>5.5605</td>\n",
       "      <td>5.0</td>\n",
       "      <td>311.0</td>\n",
       "      <td>15.2</td>\n",
       "      <td>395.60</td>\n",
       "      <td>12.43</td>\n",
       "      <td>22.9</td>\n",
       "    </tr>\n",
       "    <tr>\n",
       "      <th>7</th>\n",
       "      <td>0.14455</td>\n",
       "      <td>12.5</td>\n",
       "      <td>7.87</td>\n",
       "      <td>0.0</td>\n",
       "      <td>0.524</td>\n",
       "      <td>6.172</td>\n",
       "      <td>96.1</td>\n",
       "      <td>5.9505</td>\n",
       "      <td>5.0</td>\n",
       "      <td>311.0</td>\n",
       "      <td>15.2</td>\n",
       "      <td>396.90</td>\n",
       "      <td>19.15</td>\n",
       "      <td>27.1</td>\n",
       "    </tr>\n",
       "    <tr>\n",
       "      <th>8</th>\n",
       "      <td>0.21124</td>\n",
       "      <td>12.5</td>\n",
       "      <td>7.87</td>\n",
       "      <td>0.0</td>\n",
       "      <td>0.524</td>\n",
       "      <td>5.631</td>\n",
       "      <td>100.0</td>\n",
       "      <td>6.0821</td>\n",
       "      <td>5.0</td>\n",
       "      <td>311.0</td>\n",
       "      <td>15.2</td>\n",
       "      <td>386.63</td>\n",
       "      <td>29.93</td>\n",
       "      <td>16.5</td>\n",
       "    </tr>\n",
       "    <tr>\n",
       "      <th>9</th>\n",
       "      <td>0.17004</td>\n",
       "      <td>12.5</td>\n",
       "      <td>7.87</td>\n",
       "      <td>0.0</td>\n",
       "      <td>0.524</td>\n",
       "      <td>6.004</td>\n",
       "      <td>85.9</td>\n",
       "      <td>6.5921</td>\n",
       "      <td>5.0</td>\n",
       "      <td>311.0</td>\n",
       "      <td>15.2</td>\n",
       "      <td>386.71</td>\n",
       "      <td>17.10</td>\n",
       "      <td>18.9</td>\n",
       "    </tr>\n",
       "  </tbody>\n",
       "</table>\n",
       "</div>"
      ],
      "text/plain": [
       "      CRIM    ZN  INDUS  CHAS    NOX     RM    AGE     DIS  RAD    TAX  \\\n",
       "0  0.00632  18.0   2.31   0.0  0.538  6.575   65.2  4.0900  1.0  296.0   \n",
       "1  0.02731   0.0   7.07   0.0  0.469  6.421   78.9  4.9671  2.0  242.0   \n",
       "2  0.02729   0.0   7.07   0.0  0.469  7.185   61.1  4.9671  2.0  242.0   \n",
       "3  0.03237   0.0   2.18   0.0  0.458  6.998   45.8  6.0622  3.0  222.0   \n",
       "4  0.06905   0.0   2.18   0.0  0.458  7.147   54.2  6.0622  3.0  222.0   \n",
       "5  0.02985   0.0   2.18   0.0  0.458  6.430   58.7  6.0622  3.0  222.0   \n",
       "6  0.08829  12.5   7.87   0.0  0.524  6.012   66.6  5.5605  5.0  311.0   \n",
       "7  0.14455  12.5   7.87   0.0  0.524  6.172   96.1  5.9505  5.0  311.0   \n",
       "8  0.21124  12.5   7.87   0.0  0.524  5.631  100.0  6.0821  5.0  311.0   \n",
       "9  0.17004  12.5   7.87   0.0  0.524  6.004   85.9  6.5921  5.0  311.0   \n",
       "\n",
       "   PTRATIO       B  LSTAT  MEDV  \n",
       "0     15.3  396.90   4.98  24.0  \n",
       "1     17.8  396.90   9.14  21.6  \n",
       "2     17.8  392.83   4.03  34.7  \n",
       "3     18.7  394.63   2.94  33.4  \n",
       "4     18.7  396.90   5.33  36.2  \n",
       "5     18.7  394.12   5.21  28.7  \n",
       "6     15.2  395.60  12.43  22.9  \n",
       "7     15.2  396.90  19.15  27.1  \n",
       "8     15.2  386.63  29.93  16.5  \n",
       "9     15.2  386.71  17.10  18.9  "
      ]
     },
     "execution_count": 5,
     "metadata": {},
     "output_type": "execute_result"
    }
   ],
   "source": [
    "boston_data.head(10)"
   ]
  },
  {
   "cell_type": "code",
   "execution_count": 6,
   "id": "496a3fbf",
   "metadata": {},
   "outputs": [
    {
     "data": {
      "text/plain": [
       "\"Boston House Prices dataset\\n===========================\\n\\nNotes\\n------\\nData Set Characteristics:  \\n\\n    :Number of Instances: 506 \\n\\n    :Number of Attributes: 13 numeric/categorical predictive\\n    \\n    :Median Value (attribute 14) is usually the target\\n\\n    :Attribute Information (in order):\\n        - CRIM     per capita crime rate by town\\n        - ZN       proportion of residential land zoned for lots over 25,000 sq.ft.\\n        - INDUS    proportion of non-retail business acres per town\\n        - CHAS     Charles River dummy variable (= 1 if tract bounds river; 0 otherwise)\\n        - NOX      nitric oxides concentration (parts per 10 million)\\n        - RM       average number of rooms per dwelling\\n        - AGE      proportion of owner-occupied units built prior to 1940\\n        - DIS      weighted distances to five Boston employment centres\\n        - RAD      index of accessibility to radial highways\\n        - TAX      full-value property-tax rate per $10,000\\n        - PTRATIO  pupil-teacher ratio by town\\n        - B        1000(Bk - 0.63)^2 where Bk is the proportion of blacks by town\\n        - LSTAT    % lower status of the population\\n        - MEDV     Median value of owner-occupied homes in $1000's\\n\\n    :Missing Attribute Values: None\\n\\n    :Creator: Harrison, D. and Rubinfeld, D.L.\\n\\nThis is a copy of UCI ML housing dataset.\\nhttp://archive.ics.uci.edu/ml/datasets/Housing\\n\\n\\nThis dataset was taken from the StatLib library which is maintained at Carnegie Mellon University.\\n\\nThe Boston house-price data of Harrison, D. and Rubinfeld, D.L. 'Hedonic\\nprices and the demand for clean air', J. Environ. Economics & Management,\\nvol.5, 81-102, 1978.   Used in Belsley, Kuh & Welsch, 'Regression diagnostics\\n...', Wiley, 1980.   N.B. Various transformations are used in the table on\\npages 244-261 of the latter.\\n\\nThe Boston house-price data has been used in many machine learning papers that address regression\\nproblems.   \\n     \\n**References**\\n\\n   - Belsley, Kuh & Welsch, 'Regression diagnostics: Identifying Influential Data and Sources of Collinearity', Wiley, 1980. 244-261.\\n   - Quinlan,R. (1993). Combining Instance-Based and Model-Based Learning. In Proceedings on the Tenth International Conference of Machine Learning, 236-243, University of Massachusetts, Amherst. Morgan Kaufmann.\\n   - many more! (see http://archive.ics.uci.edu/ml/datasets/Housing)\\n\""
      ]
     },
     "execution_count": 6,
     "metadata": {},
     "output_type": "execute_result"
    }
   ],
   "source": [
    "boston_description"
   ]
  },
  {
   "cell_type": "markdown",
   "id": "f54e364f",
   "metadata": {},
   "source": [
    "## Determining Normality\n",
    "If the target variable is normally distributed, it often leads to better predictions.\n",
    "\n",
    "If the target is not normally distributed, we can apply transforms to make it normally distributed.\n",
    "\n",
    "<b>How to tell if the target variable is normally distributed??</b>\n",
    "- Statistical Approach\n",
    "- Graphical Approach"
   ]
  },
  {
   "cell_type": "code",
   "execution_count": 7,
   "id": "593f19ef",
   "metadata": {},
   "outputs": [
    {
     "data": {
      "text/plain": [
       "<Axes: >"
      ]
     },
     "execution_count": 7,
     "metadata": {},
     "output_type": "execute_result"
    },
    {
     "data": {
      "image/png": "[encoded data removed]",
      "text/plain": [
       "<Figure size 640x480 with 1 Axes>"
      ]
     },
     "metadata": {},
     "output_type": "display_data"
    }
   ],
   "source": [
    "boston_data.MEDV.hist()"
   ]
  },
  {
   "cell_type": "markdown",
   "id": "498dd64b",
   "metadata": {},
   "source": [
    "### Using a Statistical Model\n",
    "\n",
    "- Baysian Approach (we accept that it is normally distributed if p-value is high)"
   ]
  },
  {
   "cell_type": "code",
   "execution_count": 8,
   "id": "9c8381e0",
   "metadata": {},
   "outputs": [
    {
     "name": "stdout",
     "output_type": "stream",
     "text": [
      "NormaltestResult(statistic=np.float64(90.9746873700967), pvalue=np.float64(1.7583188871696095e-20))\n"
     ]
    }
   ],
   "source": [
    "from scipy.stats.mstats import normaltest\n",
    "\n",
    "print(normaltest(boston_data.MEDV.values))"
   ]
  },
  {
   "cell_type": "markdown",
   "id": "ea76dcef",
   "metadata": {},
   "source": [
    "Since the p-value is very low ==> we can infere that distribution is not Normally Distributed.\n",
    "\n",
    "### Applying Distributions to make it more normally distributed.\n",
    "\n",
    "1. Log Transformation\n",
    "2. Square Root Transformation\n",
    "3. Box Cox Transformation"
   ]
  },
  {
   "cell_type": "code",
   "execution_count": 9,
   "id": "76133042",
   "metadata": {},
   "outputs": [
    {
     "data": {
      "image/png": "[encoded data removed]",
      "text/plain": [
       "<Figure size 640x480 with 1 Axes>"
      ]
     },
     "metadata": {},
     "output_type": "display_data"
    }
   ],
   "source": [
    "# this is the function we defined earlier\n",
    "data = plot_exponential_data()"
   ]
  },
  {
   "cell_type": "code",
   "execution_count": 10,
   "id": "0ecd0b6b",
   "metadata": {},
   "outputs": [
    {
     "data": {
      "text/plain": [
       "(array([  8.,  33.,  83., 182., 215., 217., 153.,  74.,  31.,   4.]),\n",
       " array([-2.84528637, -2.26277091, -1.68025545, -1.09773998, -0.51522452,\n",
       "         0.06729094,  0.6498064 ,  1.23232187,  1.81483733,  2.39735279,\n",
       "         2.97986826]),\n",
       " <BarContainer object of 10 artists>)"
      ]
     },
     "execution_count": 10,
     "metadata": {},
     "output_type": "execute_result"
    },
    {
     "data": {
      "image/png": "[encoded data removed]",
      "text/plain": [
       "<Figure size 640x480 with 1 Axes>"
      ]
     },
     "metadata": {},
     "output_type": "display_data"
    }
   ],
   "source": [
    "# now applying the log transform to this data.\n",
    "plt.hist(np.log(data))"
   ]
  },
  {
   "cell_type": "markdown",
   "id": "574eb179",
   "metadata": {},
   "source": [
    "<b>Applying data to the Boston Dataset</b>"
   ]
  },
  {
   "cell_type": "code",
   "execution_count": 11,
   "id": "09d7f228",
   "metadata": {},
   "outputs": [],
   "source": [
    "log_medv = np.log(boston_data.MEDV)"
   ]
  },
  {
   "cell_type": "code",
   "execution_count": 12,
   "id": "10e9c9c0",
   "metadata": {},
   "outputs": [
    {
     "data": {
      "text/plain": [
       "<Axes: >"
      ]
     },
     "execution_count": 12,
     "metadata": {},
     "output_type": "execute_result"
    },
    {
     "data": {
      "image/png": "[encoded data removed]",
      "text/plain": [
       "<Figure size 640x480 with 1 Axes>"
      ]
     },
     "metadata": {},
     "output_type": "display_data"
    }
   ],
   "source": [
    "log_medv.hist()"
   ]
  },
  {
   "cell_type": "code",
   "execution_count": 13,
   "id": "e06afdf0",
   "metadata": {},
   "outputs": [
    {
     "data": {
      "text/plain": [
       "NormaltestResult(statistic=np.float64(17.21801696640698), pvalue=np.float64(0.00018245472768345196))"
      ]
     },
     "execution_count": 13,
     "metadata": {},
     "output_type": "execute_result"
    }
   ],
   "source": [
    "# since graphically it is always not accurate to conclude if a distribution it Normal Distribution or not, we can use th p-value.\n",
    "normaltest(log_medv)"
   ]
  },
  {
   "cell_type": "markdown",
   "id": "5b284663",
   "metadata": {},
   "source": [
    "This p-value is much closer to 0.05 but it is not completely normal.\n",
    "\n",
    "### Square Root Transformation"
   ]
  },
  {
   "cell_type": "code",
   "execution_count": 14,
   "id": "a7d3e449",
   "metadata": {},
   "outputs": [
    {
     "data": {
      "image/png": "[encoded data removed]",
      "text/plain": [
       "<Figure size 640x480 with 1 Axes>"
      ]
     },
     "metadata": {},
     "output_type": "display_data"
    }
   ],
   "source": [
    "data = plot_square_normal_data()\n",
    "# this data exhibits a slight right skew"
   ]
  },
  {
   "cell_type": "code",
   "execution_count": 15,
   "id": "e5d42bc5",
   "metadata": {},
   "outputs": [
    {
     "data": {
      "text/plain": [
       "(array([  3.,  14.,  47., 149., 236., 258., 182.,  83.,  20.,   8.]),\n",
       " array([1.42765184, 2.12442833, 2.82120482, 3.5179813 , 4.21475779,\n",
       "        4.91153427, 5.60831076, 6.30508724, 7.00186373, 7.69864021,\n",
       "        8.3954167 ]),\n",
       " <BarContainer object of 10 artists>)"
      ]
     },
     "execution_count": 15,
     "metadata": {},
     "output_type": "execute_result"
    },
    {
     "data": {
      "image/png": "[encoded data removed]",
      "text/plain": [
       "<Figure size 640x480 with 1 Axes>"
      ]
     },
     "metadata": {},
     "output_type": "display_data"
    }
   ],
   "source": [
    "plt.hist(np.sqrt(data))"
   ]
  },
  {
   "cell_type": "code",
   "execution_count": 16,
   "id": "0c445601",
   "metadata": {},
   "outputs": [
    {
     "data": {
      "text/plain": [
       "(array([  9.,  18.,  40.,  67., 131., 121.,  48.,  36.,  10.,  26.]),\n",
       " array([2.23606798, 2.71956796, 3.20306794, 3.68656793, 4.17006791,\n",
       "        4.65356789, 5.13706788, 5.62056786, 6.10406784, 6.58756783,\n",
       "        7.07106781]),\n",
       " <BarContainer object of 10 artists>)"
      ]
     },
     "execution_count": 16,
     "metadata": {},
     "output_type": "execute_result"
    },
    {
     "data": {
      "image/png": "[encoded data removed]",
      "text/plain": [
       "<Figure size 640x480 with 1 Axes>"
      ]
     },
     "metadata": {},
     "output_type": "display_data"
    }
   ],
   "source": [
    "# Applying the transform to boston dataset\n",
    "sqrt_medv = np.sqrt(boston_data.MEDV)\n",
    "plt.hist(sqrt_medv)"
   ]
  },
  {
   "cell_type": "code",
   "execution_count": 17,
   "id": "b12ae6a0",
   "metadata": {},
   "outputs": [
    {
     "data": {
      "text/plain": [
       "NormaltestResult(statistic=np.float64(20.487090826863067), pvalue=np.float64(3.558645701429252e-05))"
      ]
     },
     "execution_count": 17,
     "metadata": {},
     "output_type": "execute_result"
    }
   ],
   "source": [
    "normaltest(sqrt_medv)"
   ]
  },
  {
   "cell_type": "markdown",
   "id": "708139ed",
   "metadata": {},
   "source": [
    "Again the p-value is very small. So this is not very close to the Normal Distribution."
   ]
  },
  {
   "cell_type": "markdown",
   "id": "0e2a07ef",
   "metadata": {},
   "source": [
    "### Box Cox Transformation\n",
    "\n",
    "This transform tries to get the distribution as close to Normal as possible."
   ]
  },
  {
   "cell_type": "code",
   "execution_count": 18,
   "id": "35147744",
   "metadata": {},
   "outputs": [],
   "source": [
    "from scipy.stats import boxcox"
   ]
  },
  {
   "cell_type": "code",
   "execution_count": 19,
   "id": "da2277d3",
   "metadata": {},
   "outputs": [],
   "source": [
    "bc_data = boxcox(boston_data.MEDV)\n",
    "# this object returns an array and a co-effecient"
   ]
  },
  {
   "cell_type": "code",
   "execution_count": 20,
   "id": "082658d9",
   "metadata": {},
   "outputs": [],
   "source": [
    "boxcox_medv = bc_data[0]\n",
    "lam = bc_data[1]"
   ]
  },
  {
   "cell_type": "code",
   "execution_count": 21,
   "id": "72efaf88",
   "metadata": {},
   "outputs": [
    {
     "data": {
      "text/plain": [
       "<Axes: >"
      ]
     },
     "execution_count": 21,
     "metadata": {},
     "output_type": "execute_result"
    },
    {
     "data": {
      "image/png": "[encoded data removed]",
      "text/plain": [
       "<Figure size 640x480 with 1 Axes>"
      ]
     },
     "metadata": {},
     "output_type": "display_data"
    }
   ],
   "source": [
    "# real data\n",
    "boston_data.MEDV.hist()"
   ]
  },
  {
   "cell_type": "code",
   "execution_count": 22,
   "id": "e6486b4a",
   "metadata": {},
   "outputs": [
    {
     "data": {
      "text/plain": [
       "(array([  4.,  15.,  17.,  49.,  68., 151.,  99.,  50.,  23.,  30.]),\n",
       " array([1.92564957, 2.34873723, 2.7718249 , 3.19491257, 3.61800024,\n",
       "        4.0410879 , 4.46417557, 4.88726324, 5.31035091, 5.73343858,\n",
       "        6.15652624]),\n",
       " <BarContainer object of 10 artists>)"
      ]
     },
     "execution_count": 22,
     "metadata": {},
     "output_type": "execute_result"
    },
    {
     "data": {
      "image/png": "[encoded data removed]",
      "text/plain": [
       "<Figure size 640x480 with 1 Axes>"
      ]
     },
     "metadata": {},
     "output_type": "display_data"
    }
   ],
   "source": [
    "plt.hist(boxcox_medv)"
   ]
  },
  {
   "cell_type": "code",
   "execution_count": 23,
   "id": "2cbcbc65",
   "metadata": {},
   "outputs": [
    {
     "data": {
      "text/plain": [
       "NormaltestResult(statistic=np.float64(4.513528737272365), pvalue=np.float64(0.10468867128449004))"
      ]
     },
     "execution_count": 23,
     "metadata": {},
     "output_type": "execute_result"
    }
   ],
   "source": [
    "normaltest(boxcox_medv)\n",
    "# this has a very significant p-value\n",
    "# let's test regression on this data"
   ]
  },
  {
   "cell_type": "markdown",
   "id": "0964f005",
   "metadata": {},
   "source": [
    "## Testing Regression"
   ]
  },
  {
   "cell_type": "code",
   "execution_count": 24,
   "id": "b1d9c232",
   "metadata": {},
   "outputs": [],
   "source": [
    "from sklearn.linear_model import LinearRegression\n",
    "from sklearn.metrics import r2_score\n",
    "from sklearn.model_selection import train_test_split\n",
    "from sklearn.preprocessing import (StandardScaler, PolynomialFeatures)"
   ]
  },
  {
   "cell_type": "code",
   "execution_count": 25,
   "id": "fb09cc5a",
   "metadata": {},
   "outputs": [],
   "source": [
    "lr = LinearRegression()"
   ]
  },
  {
   "cell_type": "code",
   "execution_count": 26,
   "id": "4e0e7105",
   "metadata": {},
   "outputs": [],
   "source": [
    "# define input and output variables\n",
    "y_col = \"MEDV\"\n",
    "\n",
    "x = boston_data.drop(columns=y_col, axis=1)\n",
    "y = boston_data[y_col]"
   ]
  },
  {
   "cell_type": "code",
   "execution_count": 27,
   "id": "7bd5ba00",
   "metadata": {},
   "outputs": [],
   "source": [
    "# create polynomial features\n",
    "pf = PolynomialFeatures(degree=2, include_bias=False)\n",
    "X_pf = pf.fit_transform(x)"
   ]
  },
  {
   "cell_type": "code",
   "execution_count": 28,
   "id": "9ea36e3f",
   "metadata": {},
   "outputs": [],
   "source": [
    "# split data into train and test sets.\n",
    "x_train, x_test, y_train, y_test = train_test_split(X_pf, y, test_size=0.3, random_state=72018)"
   ]
  },
  {
   "cell_type": "code",
   "execution_count": 29,
   "id": "b54deee7",
   "metadata": {},
   "outputs": [],
   "source": [
    "s = StandardScaler()\n",
    "x_train_s = s.fit_transform(x_train)"
   ]
  },
  {
   "cell_type": "code",
   "execution_count": 30,
   "id": "e98cf5fd",
   "metadata": {},
   "outputs": [],
   "source": [
    "# applying the boxcox transform to the y_train\n",
    "\n",
    "bc_result2 = boxcox(y_train)\n",
    "y_train_bc = bc_result2[0]\n",
    "lam2 = bc_result2[1]"
   ]
  },
  {
   "cell_type": "code",
   "execution_count": 31,
   "id": "6be4a05c",
   "metadata": {},
   "outputs": [],
   "source": [
    "# Now we perform the Lineare Regression Fitting\n",
    "lr.fit(x_train_s, y_train_bc)\n",
    "\n",
    "# for testing the data we need to scale the test set as well.\n",
    "x_test_s = s.fit_transform(x_test)\n",
    "\n",
    "# now predict using the test set\n",
    "y_pred = lr.predict(x_test_s)"
   ]
  },
  {
   "cell_type": "markdown",
   "id": "dcda7e71",
   "metadata": {},
   "source": [
    "Now, how to we interpret these results. The results are according to a boxcox transformed y_train which is now fit using Linear Regression.\n",
    "Now we can use Inverse Box Cox Transform to better interpret the y_pred.\n",
    "\n",
    "We need to input y_pred and lambda we found to use Inverse BoxCox."
   ]
  },
  {
   "cell_type": "code",
   "execution_count": 32,
   "id": "e477ca7b",
   "metadata": {},
   "outputs": [],
   "source": [
    "from scipy.special import inv_boxcox"
   ]
  },
  {
   "cell_type": "code",
   "execution_count": 33,
   "id": "201701dd",
   "metadata": {},
   "outputs": [
    {
     "data": {
      "text/plain": [
       "array([24. , 21.6, 34.7, 33.4, 36.2, 28.7, 22.9, 27.1, 16.5, 18.9])"
      ]
     },
     "execution_count": 33,
     "metadata": {},
     "output_type": "execute_result"
    }
   ],
   "source": [
    "# Trying Inverse BoxCOx with the data saved in boxcox_medv\n",
    "inv_boxcox(boxcox_medv, lam)[:10]"
   ]
  },
  {
   "cell_type": "code",
   "execution_count": 34,
   "id": "09dc42e7",
   "metadata": {},
   "outputs": [
    {
     "data": {
      "text/plain": [
       "array([24. , 21.6, 34.7, 33.4, 36.2, 28.7, 22.9, 27.1, 16.5, 18.9])"
      ]
     },
     "execution_count": 34,
     "metadata": {},
     "output_type": "execute_result"
    }
   ],
   "source": [
    "# the above should be save as the original boston_data.MEDV\n",
    "boston_data['MEDV'].values[:10]"
   ]
  },
  {
   "cell_type": "code",
   "execution_count": 35,
   "id": "3c90e3b8",
   "metadata": {},
   "outputs": [
    {
     "data": {
      "text/plain": [
       "0.8256803385795184"
      ]
     },
     "execution_count": 35,
     "metadata": {},
     "output_type": "execute_result"
    }
   ],
   "source": [
    "# inverse boxcox the y_pred and test r2_score\n",
    "y_pred_inv_bc = inv_boxcox(y_pred, lam2)\n",
    "\n",
    "r2_score(y_pred_inv_bc, y_test)"
   ]
  },
  {
   "cell_type": "markdown",
   "id": "d6dbae38",
   "metadata": {},
   "source": [
    "We found that we have an accuracy of 82%\n",
    "\n",
    "### What if we had not applied BoxCox Transform??"
   ]
  },
  {
   "cell_type": "code",
   "execution_count": 36,
   "id": "e12c8082",
   "metadata": {},
   "outputs": [
    {
     "data": {
      "text/plain": [
       "0.8001111380647437"
      ]
     },
     "execution_count": 36,
     "metadata": {},
     "output_type": "execute_result"
    }
   ],
   "source": [
    "lr2 = LinearRegression()\n",
    "\n",
    "lr2.fit(x_train_s, y_train)\n",
    "y_pred2 = lr2.predict(x_test_s)\n",
    "r2_score(y_pred2, y_test)"
   ]
  },
  {
   "cell_type": "markdown",
   "id": "2c4424a4",
   "metadata": {},
   "source": [
    "We notice that the R2_score is slightly lower for unscaled data."
   ]
  },
  {
   "cell_type": "markdown",
   "id": "311e3731",
   "metadata": {},
   "source": []
  }
 ],
 "metadata": {
  "kernelspec": {
   "display_name": "ml",
   "language": "python",
   "name": "python3"
  },
  "language_info": {
   "codemirror_mode": {
    "name": "ipython",
    "version": 3
   },
   "file_extension": ".py",
   "mimetype": "text/x-python",
   "name": "python",
   "nbconvert_exporter": "python",
   "pygments_lexer": "ipython3",
   "version": "3.13.2"
  }
 },
 "nbformat": 4,
 "nbformat_minor": 5
}
